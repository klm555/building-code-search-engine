{
  "cells": [
    {
      "cell_type": "markdown",
      "metadata": {
        "id": "JrP5DiLXEWlG"
      },
      "source": [
        "# Colab 시작\n",
        "- colab은 local 환경이 아닌, cloud 환경에서 작동됨. 따라서 **코드를 실행하기 위한 세팅이 따로 필요없음.**\n",
        "- 앞에 초록색 check 표시가 있는 셀은 이미 실행된 셀임\n",
        "  - 또 실행해도 상관은 없음\n",
        "  - `pip install`은 시간이 걸리니, 굳이 또 설치하지 말자.\n",
        "  - openai api key는 매번 입력하기 번거로움 + 현재 key에 deposit 충전되어있으므로 돈 충전 또 하기 싫으면 그냥 쓰자.\n",
        "  - 공유하고 있는 누군가가 이미 실행했다는 뜻\n",
        "- 셀 실행 : `shift` + `enter`\n"
      ]
    },
    {
      "cell_type": "code",
      "execution_count": null,
      "metadata": {
        "id": "hLakFPEth29Y"
      },
      "outputs": [],
      "source": [
        "%%capture\n",
        "# Libraries are installed to the instance which can only last for max 12 hours. After that, the instance is destroyed.\n",
        "!pip install langchain\n",
        "!pip install langchain_openai"
      ]
    },
    {
      "cell_type": "code",
      "execution_count": 2,
      "metadata": {
        "id": "7SMylZ72fJTS"
      },
      "outputs": [],
      "source": [
        "import os\n",
        "import getpass\n",
        "import ast\n",
        "import re\n",
        "import numpy as np\n",
        "import langchain\n",
        "from langchain_openai import OpenAIEmbeddings\n",
        "from urllib.parse import quote"
      ]
    },
    {
      "cell_type": "code",
      "execution_count": 3,
      "metadata": {
        "id": "6manVyjRfqSK"
      },
      "outputs": [],
      "source": [
        "# openai api key\n",
        "# os.environ[\"OPENAI_API_KEY\"] = getpass.getpass()\n",
        "os.environ[\"OPENAI_API_KEY\"] = ''"
      ]
    },
    {
      "cell_type": "code",
      "execution_count": 4,
      "metadata": {
        "id": "fb0R_WT4nCLn"
      },
      "outputs": [],
      "source": [
        "# Embedding 모델 가져오기\n",
        "embed_model = OpenAIEmbeddings(model='text-embedding-3-large') # dimensions(int): specify vector size"
      ]
    },
    {
      "cell_type": "markdown",
      "metadata": {
        "id": "0iY28gNSHAxD"
      },
      "source": [
        "# 입력사항\n",
        "- 파일을 사용하기 위해서는 코드 실행할 때와 마찬가지로 cloud 환경에 업로드해야함.\n",
        "- (예정) 파일은 이미 업로드 되어있으므로, 뒤의 `KDS 41 17 00 건축물 내진설계기준.txt` 부분만 수정하고 실행하면 됨\n",
        "\n",
        "### Issue!\n",
        " - query에 오타가 있는 경우는 해결이 되는 것 같으나, query의 질문 형식이 이상하면 결과가 잘 안나오는 경우가 있는듯?\n",
        " - query를 조금 더 수정해서 embedding model에 입력할 수 있는 step이 추가되는게 좋을듯"
      ]
    },
    {
      "cell_type": "code",
      "execution_count": 40,
      "metadata": {
        "id": "7T8GRpdReNYh"
      },
      "outputs": [],
      "source": [
        "# 사용자 검색어\n",
        "# query = '유효지방가속도가 머임'\n",
        "# query = '등가정적해석법에서 밑면전단력 어떻게 구함?'\n",
        "# query = '층간변위비 어케구함'\n",
        "# query = 'how to calculate 층간변위비'\n",
        "# query = '츠ㅇ간변위비'\n",
        "# query = '층간변위비 어케계산함'\n",
        "# query = 'base shear'\n",
        "query = '지압접합 강구조'\n",
        "\n",
        "# 표시할 결과 갯수\n",
        "show_result = 5"
      ]
    },
    {
      "cell_type": "markdown",
      "metadata": {
        "id": "CjwPLmEUHZI1"
      },
      "source": [
        "# 실행\n",
        "- 위에서 입력한 *검색어*와 *파일 경로*를 바탕으로 **Embedding 생성** 및 **유사도 계산**\n",
        "- *검색어*와 *파일 경로*가 바뀔 시 재실행해야함!"
      ]
    },
    {
      "cell_type": "code",
      "execution_count": 34,
      "metadata": {
        "id": "gzQwM_ACfsps"
      },
      "outputs": [
        {
          "name": "stdout",
          "output_type": "stream",
          "text": [
            "Number of Files =  2\n",
            "Number of Sections =  1024\n"
          ]
        }
      ],
      "source": [
        "# pdf 파일 경로\n",
        "# pdf_path = '/content/converted_txt'\n",
        "pdf_path = '../../converted_txt'\n",
        "\n",
        "# 저장된 txt 파일을 읽어서 list로 변환\n",
        "count = 0\n",
        "section_list = []\n",
        "for file in os.listdir(pdf_path):\n",
        "  if file.endswith('.txt'):\n",
        "    count += 1\n",
        "    with open(os.path.join(pdf_path, file), 'r', encoding='utf8') as f:\n",
        "      section_list += ast.literal_eval(f.read()) # index : 0=기준명, 1=페이지, 2=소제목, 3=본문내용\n",
        "\n",
        "print('Number of Files = ', count)\n",
        "print('Number of Sections = ', len(section_list))"
      ]
    },
    {
      "cell_type": "code",
      "execution_count": 35,
      "metadata": {
        "colab": {
          "base_uri": "https://localhost:8080/"
        },
        "id": "fHBHdPYeEEtE",
        "outputId": "9c980d9b-53c1-480a-8f0a-7076d8af1174"
      },
      "outputs": [
        {
          "name": "stdout",
          "output_type": "stream",
          "text": [
            "Number of Sections =  1024\n",
            "Vector size =  3072\n"
          ]
        }
      ],
      "source": [
        "# Documents Embeddings 생성\n",
        "docs_body_embeddings = embed_model.embed_documents([section[3] for section in section_list]) # 내용 embeddings\n",
        "docs_subtitle_embeddings = embed_model.embed_documents([section[2] for section in section_list]) # 소제목 embeddings\n",
        "\n",
        "# Documents Embeddings 확인\n",
        "print('Vector size = ', len(docs_body_embeddings[0]))"
      ]
    },
    {
      "cell_type": "code",
      "execution_count": 38,
      "metadata": {
        "colab": {
          "base_uri": "https://localhost:8080/"
        },
        "id": "bdfrNU05ohDY",
        "outputId": "d996b444-b1ed-4b5f-9a1f-856097766ef6"
      },
      "outputs": [
        {
          "name": "stdout",
          "output_type": "stream",
          "text": [
            "Vector size =  3072\n",
            "[0.03761359814459702, -0.01070817772512704, -0.002221496869908816, -0.005537807595760987, 0.013655176465189229]\n"
          ]
        }
      ],
      "source": [
        "# Query Embeddings 생성\n",
        "query_embeddings = embed_model.embed_query(query)\n",
        "\n",
        "# Query Embeddings 확인\n",
        "print('Vector size = ', len(query_embeddings)) # vector size\n",
        "print(query_embeddings[:5]) # vector (only first 5 elements)"
      ]
    },
    {
      "cell_type": "code",
      "execution_count": 41,
      "metadata": {
        "colab": {
          "base_uri": "https://localhost:8080/"
        },
        "id": "V8wNCZSMFqjg",
        "outputId": "df0d55ca-e317-4408-d247-3bd4482bed77"
      },
      "outputs": [
        {
          "name": "stdout",
          "output_type": "stream",
          "text": [
            "###3###| 0701 | 일반사항 | 671 |기준 해설제7장  강구조\n",
            " \n",
            "\n",
            "0701 일반사항 / 0702 설계요구사항 / 0703 골조의 안정성 / 0704 인장재 / 0705 압축재 / 0706 휨부재 /\n",
            "0707 전단력을 받는 부재  / 0708 조합력과 비틀림을 받는 부재  / 0709 합성부재 / 0710 접합, 절점 및 파스너 / \n",
            "0711 강관구조접합 / 0712 사용성 설계 / 07 13 강구조의 내진설계 / 0714 합성구조의 내진설계 / 0715 제작, 설치 및 \n",
            "품질관리 / 0716 비탄성해석 및 설계 / 0717 물고임에 대한 설계  / 0718 내화설계 / 0719 기존 구조물의 평가 / \n",
            "0720 기둥과 보의 안정용가새 / 0721 직접해석법 / 0722 내진성능검증, 품질확보계획 및 용접규정 / 0 723 냉간성형강구조\n",
            "0701 일반사항\n",
            "0701.1 적용범위\n",
            "이 장은 구조용 강재를 사용한 건축물 및 공작물 (이하 강구조\n",
            "물)에 적용한다 .\n",
            "0701.1.1 내진설계기준의 비적용\n",
            "반응수정계수 이 3 이하인 강구조물의 설계 , 제 작  및  설 치 는 \n",
            "이 장을 따르고 , 0713과 0714의 내진설계기준을 적용하지 않는다 .\n",
            "0701.1.2 내진설계기준의 적용\n",
            "반응수정계수 이 3을 초과하는 강구조물의 설계는 0713과 \n",
            "0714의 내진설계기준을 포함한 이 장의 요구사항을 만족하여야 \n",
            "한다.\n",
            "0701.2 용어의 정의\n",
            "1점 집중하중： 부재의 플랜지에 직교방향으로 작용하는 인장력이\n",
            "나 압축력\n",
            "2점 집중하중： 부재의 한쪽 면에 1쌍으로 작용하는 동일한 힘\n",
            "가새：골조에서 기둥과 기둥 간에 대각선상으로 설치한 사재로 \n",
            "수평력에 대한 저항부재의 하나\n",
            "가새골조： 횡력에 저항하기 위하여 건물골조시스템 또는 이중골\n",
            "조시스템에서 사용하는 중심형 또는 편심형의 수직트러스 또는 \n",
            "이와 동등한 구성체\n",
            "가새실험체： 프로토타입의 가새를 모형화하기 위하여 실험에 사\n",
            "용하는 단일의 좌굴방지가새0701 일반사항\n",
            "0701.1 적용범위\n",
            "한계상태설계법 (limit state design) 은 한계상태 , 하중\n",
            "계수와 저항계수 , 신뢰성에 대한 절대적 확률론적 \n",
            "결정을 고려하고 있다 . 이러한 계수화 형식은 허용\n",
            "응력설계법에서 저항 (항복응력 )을 안전계수로 나눈 \n",
            "것과는 다른 것이다 . 한계상태설계법은 설계자에게 \n",
            "더 많은 융통성 , 합리성 , 가능성 및 가능한 전반적\n",
            "인 경제성을 부여하기 위하여 개발된 것이다 .\n",
            "이 강구조설계기준은 KBC(2009) 의 강구조설계기준\n",
            "을 보완하고 합리적으로 개정 ·신설하였다 . 특히 \n",
            "KBC(2009) 대비 민원사항을 반영하고 , 신강재의 도입 , \n",
            "용접/볼트 규정 , 합성구조 부분 등을 개선하였다 . \n",
            "0701.2 용어의 정의\n",
            "1점 집중하중(Single-concentrated force)：\n",
            "2점 집중하중(Double-concentrated force)：\n",
            "가새(Brace)：\n",
            "가새골조(Braced frame)：\n",
            "가새실험체(Brace test specimen)：\n",
            "\n",
            "# References =  KBC 2016 건축구조기준 및 해설(7장 강구조) , Page. 3\n",
            "# Cosine Similarity =  0.917633341983731\n",
            "-----------------------------\n",
            "10.2강구조건물의 지진력저항시스템\n",
            " \n",
            "\n",
            "(1)강구조건물의 기본 지진력저항시스템은 모멘트골조 ,가새골조 ,및 전단벽으로 대별된\n",
            "다.이들은 비탄성 연성거동을 통한 지진에너지 흡수능력에 따라 고연성도 ,중연성도 \n",
            "및 저연성도 시스템으로 세분된다 .특수시스템은 고연성도 ,중간시스템은 중연성도 ,\n",
            "그리고 보통시스템은 저연성도 시스템에 대응된다 .\n",
            "\n",
            "# References =  KDS 41 17 00 건축물 내진설계기준 , Page. 52\n",
            "# Cosine Similarity =  0.9141684272161729\n",
            "-----------------------------\n",
            "19.6.9.4용접 강구조\n",
            " \n",
            "\n",
            "(1)용접접합으로 제작된 입상물 저장 강구조물은 KDS 411700의 내진 요구사항에 따라 \n",
            "설계해야 한다 .구조요소별 허용응력은 공인된 전문기술표준을 따른다 .\n",
            "\n",
            "# References =  KDS 41 17 00 건축물 내진설계기준 , Page. 124\n",
            "# Cosine Similarity =  0.8953408181457183\n",
            "-----------------------------\n",
            "6.2.7강구조기준의 일반규정만을 만족하는 철골구조시스템\n",
            " \n",
            "\n",
            "(1)KDS 41 31 00 건축물 강구조 설계기준에서 4.10 강구조의 내진설계와 4.11 합성구조의 내진\n",
            "설계을 제외한 나머지 규정을 준수한 철골구조시스템을 말한다 .\n",
            "\n",
            "# References =  KDS 41 17 00 건축물 내진설계기준 , Page. 29\n",
            "# Cosine Similarity =  0.8427710249917699\n",
            "-----------------------------\n",
            "###6###해설건축구조기준 및 해설\n",
            " \n",
            "\n",
            "기준\n",
            "| 674 | 제7장 | 강구조 |내화구조： 화재에 견딜 수 있는 성능을 가진 구조로서 국토해양\n",
            "부령이 정하는 기준에 적합한 구조\n",
            "내화시간： 내화구조성능의 기준이 되며 , 화재 시의 가열에 견딜 \n",
            "수 있는 시간 . 3시간, 1시간, 30분 등으로 나누어져 있음\n",
            "내후성강： 적절히 조치된 고강도 , 저합금강으로써 부식방지를 위\n",
            "한 도막 없이 대기에 노출되어 사용되는 강재\n",
            "냉간성형： 강판 또는 대강을 냉간으로 성형하여 제조하는 것\n",
            "네킹：재료의 인장시험 시 극한하중에 도달하여 시험체가 잘록\n",
            "해지는 부분\n",
            "노출형합성보： 강재단면이 철근콘크리트에 완전히 매입되지 않으\n",
            "며 기계적 연결재에 의해 철근콘크리트슬래브나 합성슬래브와 \n",
            "합성적으로 거동하는 합성보\n",
            "다이어프램： 지지요소에 힘을 전달하도록 이용된 면내 전단강성\n",
            "과 전단강도를 갖고 있는 플레이트\n",
            "단곡률： 곡률에 반곡이 있는 복곡률에 반대되는 것으로서 1방향\n",
            "의 연속적인 원호를 그리는 변형상태\n",
            "단부돌림： 동일 평면상의 모서리 주변까지 연결되는 필릿용접의 \n",
            "길이\n",
            "단부패널： 한 쪽 면에만 인접하는 패널을 갖는 웨브패널\n",
            "단순접합부： 접합된 부재 간에 무시해도 좋을 정도로 약한 휨 모\n",
            "멘트를 전달하는 접합부\n",
            "대각가새： 골조가 수평하중에 대해 트러스거동을 통해서 저항할 \n",
            "수 있도록 경사지게 배치된 (주로 축력이 지배적인 ) 구조부재\n",
            "대각스티프너： 기둥의 패널존의 한쪽 혹은 양쪽 웨브에서 플랜지\n",
            "를 향해 대각방향으로 설치된 웨브스티프너\n",
            "대주축휨： 비대칭단면의 주축 (principle axis) 중에서 큰 값을 갖는 \n",
            "주축에 대한 휨\n",
            "도급업자： 강구조제작자 또는 강구조설치자를 지칭\n",
            "뒤틀림： 비틀림에 대한 전체저항 중 단면의 뒤틀림에 저항하는 \n",
            "부분\n",
            "뒤틀림파단： 각형 주강관의 사다리꼴형 뒤틀림에 근거한 강관트\n",
            "러스이음의 한계상태\n",
            "뒷댐판： 용접에서 부재의 밑에 대는 금속판으로 모재와 함께 용\n",
            "접됨\n",
            "뚫림하중： 주강관에 수직인 지강관의 하중성분\n",
            "링크：편심가새골조에서 , 두 대각가새단부 사이 또는 가새단부와 내화구조(Fire safe structure)：\n",
            "내화시간(Fire endurance time)：내후성강(Weathering steel)：\n",
            "냉간성형(Cold forming)：\n",
            "네킹(Necking)：\n",
            "노출형합성보(Unencased composite beam)：\n",
            "다이\n",
            "어프램(Diaphragm plate)：\n",
            "단곡률(Single curvature)：\n",
            "단부돌림(End return)：\n",
            "단부패널(End panel)：\n",
            "단순접합부(Simple connection)：\n",
            "대각가새(Diagonal bracing)：\n",
            "대각스티프너(Diagonal stiffener)：\n",
            "대주축휨(Flexure about the largest principle axis)：\n",
            "도급업자(Contractor)：\n",
            "뒤틀림(Warping torsion)：\n",
            "뒤틀림파단(Distortional failure)：\n",
            "뒷댐판(Backing plate)\n",
            "뚫림하중(Punching load)\n",
            "링크(Link)：\n",
            "\n",
            "# References =  KBC 2016 건축구조기준 및 해설(7장 강구조) , Page. 6\n",
            "# Cosine Similarity =  0.8403075027920595\n",
            "-----------------------------\n"
          ]
        }
      ],
      "source": [
        "# Cosine 유사도 계산 (소제목 & 본문내용)\n",
        "cos_sim_body = np.dot(query_embeddings, np.array(docs_body_embeddings).T) / (np.linalg.norm(query_embeddings) * np.linalg.norm(docs_body_embeddings, axis=1))\n",
        "cos_sim_subtitle = np.dot(query_embeddings, np.array(docs_subtitle_embeddings).T) / (np.linalg.norm(query_embeddings) * np.linalg.norm(docs_subtitle_embeddings, axis=1))\n",
        "\n",
        "# 소제목 & 본문내용에 대한 Cosine 유사도 sum (out of 2)\n",
        "cos_sim = cos_sim_body + cos_sim_subtitle\n",
        "\n",
        "# sort (descending)\n",
        "cos_sim_sorted_idx = np.argsort(cos_sim)[::-1]\n",
        "\n",
        "# 결과 확인\n",
        "for i in cos_sim_sorted_idx[:show_result]: # 보여줄 결과값 갯수 = 5개\n",
        "  print(section_list[i][2], '\\n')\n",
        "  print(section_list[i][3])\n",
        "  print('# References = ', section_list[i][0], ', Page.', section_list[i][1])\n",
        "  print('# Cosine Similarity = ', cos_sim[i])\n",
        "  print('-----------------------------')"
      ]
    },
    {
      "cell_type": "code",
      "execution_count": null,
      "metadata": {},
      "outputs": [],
      "source": []
    }
  ],
  "metadata": {
    "colab": {
      "provenance": []
    },
    "kernelspec": {
      "display_name": "Python 3",
      "name": "python3"
    },
    "language_info": {
      "codemirror_mode": {
        "name": "ipython",
        "version": 3
      },
      "file_extension": ".py",
      "mimetype": "text/x-python",
      "name": "python",
      "nbconvert_exporter": "python",
      "pygments_lexer": "ipython3",
      "version": "3.10.11"
    }
  },
  "nbformat": 4,
  "nbformat_minor": 0
}
